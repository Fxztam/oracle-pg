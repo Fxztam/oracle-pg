{
 "cells": [
  {
   "cell_type": "markdown",
   "metadata": {},
   "source": [
    "## Introduction\n",
    "\n",
    "The Bank Customer sample data is an integrated dataset of 1) accounts and account owners, 2) purchases by the people who own those accounts, and 3) transactions between these accounts. The combined dataset is then used to perform the following common graph query and analyses: pattern matching, detection of cycles, finding important nodes, community detection, and recommendation.\n",
    "\n",
    "![](https://user-images.githubusercontent.com/4862919/63682754-d46f0680-c822-11e9-89ae-9c84e0aec2b3.jpg)"
   ]
  },
  {
   "cell_type": "markdown",
   "metadata": {},
   "source": [
    "### Connect to Graph Server"
   ]
  },
  {
   "cell_type": "code",
   "execution_count": 1,
   "metadata": {
    "scrolled": true
   },
   "outputs": [
    {
     "name": "stdout",
     "output_type": "stream",
     "text": [
      "WARNING: The 'PGX_CLASSPATH' variable is not set. You won't be able to use PGX in embedded mode. If you want to use PGX in embedded mode, please point PGX_CLASSPATH to the directories containing the required JARs.\n",
      "PgxSession(id: d104dc26-6f13-435e-9b58-833623f04be9, name: python_pgx_client)\n"
     ]
    }
   ],
   "source": [
    "import json\n",
    "import os\n",
    "import platform\n",
    "import sys\n",
    "from urllib.request import Request, urlopen\n",
    "from urllib.error import HTTPError\n",
    "import pypgx as pgx\n",
    "\n",
    "base_url = \"http://graph-server:7007\"\n",
    "username = \"graph_dev\"\n",
    "password = \"Welcome1\"\n",
    "\n",
    "def generateToken():\n",
    "    body = json.dumps({ 'username': username, 'password': password }).encode('utf8')\n",
    "    headers = { 'content-type': 'application/json' }\n",
    "    request = Request(base_url + '/auth/token', data=body, headers=headers)\n",
    "    try:\n",
    "        response = urlopen(request).read().decode('utf-8')\n",
    "        return json.loads(response).get('access_token')\n",
    "    except HTTPError as err:\n",
    "        if err.code == 400:\n",
    "            print('Authentication failed no username/password given')\n",
    "        elif err.code == 401:\n",
    "            print('Authentication failed invalid username/password')\n",
    "        else:\n",
    "            print(\"Server returned HTTP response code: {} for URL: {}\".format(err.code, err.url))\n",
    "        os._exit(1)\n",
    " \n",
    "session = pgx.get_session(base_url=base_url, token=generateToken())\n",
    "print(session)"
   ]
  },
  {
   "cell_type": "markdown",
   "metadata": {},
   "source": [
    "### Get Pre-loaded Graph"
   ]
  },
  {
   "cell_type": "code",
   "execution_count": 2,
   "metadata": {},
   "outputs": [
    {
     "data": {
      "text/plain": [
       "PgxGraph(name: Customer 360, v: 15, e: 24, directed: True, memory(Mb): 0)"
      ]
     },
     "execution_count": 2,
     "metadata": {},
     "output_type": "execute_result"
    }
   ],
   "source": [
    "graph = session.get_graph(\"Customer 360\")\n",
    "graph"
   ]
  },
  {
   "cell_type": "code",
   "execution_count": 3,
   "metadata": {},
   "outputs": [
    {
     "name": "stdout",
     "output_type": "stream",
     "text": [
      "+-------------------------------+\n",
      "| ID(a) | account_no  | balance |\n",
      "+-------------------------------+\n",
      "| 201   | xxx-yyy-201 | 1500    |\n",
      "+-------------------------------+\n",
      "\n"
     ]
    }
   ],
   "source": [
    "graph.query_pgql(\"\"\"\n",
    "  SELECT ID(a), a.account_no, a.balance\n",
    "  FROM MATCH (a)\n",
    "  WHERE a.type = 'account'\n",
    "    AND a.account_no = 'xxx-yyy-201'\n",
    "\"\"\").print()"
   ]
  },
  {
   "cell_type": "markdown",
   "metadata": {},
   "source": [
    "### One-hop Relationships from an Account\n",
    "\n",
    "Show any related information about the account \"xxx-yyy-202\""
   ]
  },
  {
   "cell_type": "code",
   "execution_count": 4,
   "metadata": {},
   "outputs": [
    {
     "name": "stdout",
     "output_type": "stream",
     "text": [
      "+------------------------------------+\n",
      "| account_no  | LABEL(e)  | type     |\n",
      "+------------------------------------+\n",
      "| xxx-yyy-202 | owned_by  | customer |\n",
      "| xxx-yyy-202 | purchased | merchant |\n",
      "| xxx-yyy-202 | purchased | merchant |\n",
      "| xxx-yyy-202 | purchased | merchant |\n",
      "| xxx-yyy-202 | transfer  | account  |\n",
      "| xxx-yyy-202 | transfer  | account  |\n",
      "| xxx-yyy-202 | transfer  | account  |\n",
      "| xxx-yyy-202 | transfer  | account  |\n",
      "| xxx-yyy-202 | transfer  | account  |\n",
      "+------------------------------------+\n",
      "\n"
     ]
    }
   ],
   "source": [
    "graph.query_pgql(\"\"\"\n",
    "  SELECT a.account_no, LABEL(e), n.type\n",
    "  FROM MATCH (a)-[e]-(n)\n",
    "  WHERE a.type = 'account'\n",
    "    AND a.account_no = 'xxx-yyy-202'\n",
    "  ORDER BY LABEL(e)\n",
    "\"\"\").print()"
   ]
  },
  {
   "cell_type": "markdown",
   "metadata": {},
   "source": [
    "### Pattern Matching\n",
    "\n",
    "Find accounts that had an inbound and an outbound transfer, of over 500, on the same day. The PGQL query for this is:"
   ]
  },
  {
   "cell_type": "code",
   "execution_count": 5,
   "metadata": {},
   "outputs": [
    {
     "name": "stdout",
     "output_type": "stream",
     "text": [
      "+------------------------------------------------------------+\n",
      "| account_no  | balance | t1_amount | t2_amount | date       |\n",
      "+------------------------------------------------------------+\n",
      "| xxx-yyy-202 | 200     | 900       | 850       | 2018-10-06 |\n",
      "+------------------------------------------------------------+\n",
      "\n"
     ]
    }
   ],
   "source": [
    "graph.query_pgql(\"\"\"\n",
    "  SELECT a.account_no\n",
    "       , a.balance\n",
    "       , t1.amount AS t1_amount\n",
    "       , t2.amount AS t2_amount\n",
    "       , t1.date\n",
    "  FROM MATCH (a) <-[t1:transfer]- (a1)\n",
    "     , MATCH (a) -[t2:transfer]-> (a2)\n",
    "  WHERE t1.date = t2.date\n",
    "    AND t1.amount > 500\n",
    "    AND t2.amount > 500\n",
    "    AND a.balance < 300\n",
    "\"\"\").print()"
   ]
  },
  {
   "cell_type": "markdown",
   "metadata": {},
   "source": [
    "### Detect Cycles\n",
    "\n",
    "Next we use PGQL to find a series of transfers that start and end at the same account such as A to B to A, or A to B to C to A.\n",
    "\n",
    "![](https://user-images.githubusercontent.com/4862919/63682879-1ef08300-c823-11e9-8559-a142851b1ed1.jpg)\n",
    "![](https://user-images.githubusercontent.com/4862919/63683037-8a3a5500-c823-11e9-9677-c3788f4df1cd.jpg)"
   ]
  },
  {
   "cell_type": "code",
   "execution_count": 6,
   "metadata": {},
   "outputs": [
    {
     "data": {
      "text/plain": [
       "PgxGraph(name: sub-graph_17, v: 6, e: 8, directed: True, memory(Mb): 0)"
      ]
     },
     "execution_count": 6,
     "metadata": {},
     "output_type": "execute_result"
    }
   ],
   "source": [
    "graph2 = graph.filter(pgx.EdgeFilter(\"edge.label()='transfer'\"))\n",
    "graph2"
   ]
  },
  {
   "cell_type": "code",
   "execution_count": 7,
   "metadata": {},
   "outputs": [
    {
     "data": {
      "text/plain": [
       "VertexProperty(name: pagerank, type: double, graph: sub-graph_17)"
      ]
     },
     "execution_count": 7,
     "metadata": {},
     "output_type": "execute_result"
    }
   ],
   "source": [
    "analyst = session.create_analyst()\n",
    "result = analyst.pagerank(graph2);\n",
    "result"
   ]
  },
  {
   "cell_type": "code",
   "execution_count": 8,
   "metadata": {},
   "outputs": [
    {
     "name": "stdout",
     "output_type": "stream",
     "text": [
      "+-------------------------------------+\n",
      "| a.account_no | a.pagerank           |\n",
      "+-------------------------------------+\n",
      "| xxx-yyy-201  | 0.18012007557258927  |\n",
      "| xxx-yyy-204  | 0.1412461615467829   |\n",
      "| xxx-yyy-203  | 0.1365633635065475   |\n",
      "| xxx-yyy-202  | 0.12293884324085073  |\n",
      "| xxx-zzz-002  | 0.05987452026569676  |\n",
      "| xxx-zzz-001  | 0.025000000000000005 |\n",
      "+-------------------------------------+\n",
      "\n"
     ]
    }
   ],
   "source": [
    "graph2.query_pgql(\"\"\"\n",
    "  SELECT a.account_no, a.pagerank\n",
    "  MATCH (a)\n",
    "  ORDER BY a.pagerank DESC\n",
    "\"\"\").print()"
   ]
  },
  {
   "cell_type": "markdown",
   "metadata": {},
   "source": [
    "## Community Detection\n",
    "\n",
    "Let’s find which subsets of accounts form communities. That is, there are more transfers among accounts in the same subset than there are between those and accounts in another subset. We’ll use the built-in weekly and strongly connected components algorithm.\n",
    "\n",
    "The first step is to create a subgraph that only has the accounts and the transfers among them. This is done by creating and applying an edge filter (for edges with the table \"transfer\") to the graph.\n",
    "\n",
    "![](https://user-images.githubusercontent.com/4862919/63683125-c2419800-c823-11e9-8ca1-124a50398a5e.jpg)"
   ]
  },
  {
   "cell_type": "markdown",
   "metadata": {},
   "source": [
    "### Weakly Connected Component"
   ]
  },
  {
   "cell_type": "code",
   "execution_count": 9,
   "metadata": {},
   "outputs": [
    {
     "data": {
      "text/plain": [
       "PgxPartition(graph: sub-graph_17, components: 1)"
      ]
     },
     "execution_count": 9,
     "metadata": {},
     "output_type": "execute_result"
    }
   ],
   "source": [
    "graph2.destroy_vertex_property_if_exists(\"wcc\")\n",
    "analyst.wcc(graph2)"
   ]
  },
  {
   "cell_type": "code",
   "execution_count": 10,
   "metadata": {},
   "outputs": [
    {
     "name": "stdout",
     "output_type": "stream",
     "text": [
      "+----------------------+\n",
      "| component_id | count |\n",
      "+----------------------+\n",
      "| 0            | 6     |\n",
      "+----------------------+\n",
      "\n"
     ]
    }
   ],
   "source": [
    "graph2.query_pgql(\"\"\"\n",
    "  SELECT a.wcc AS component_id, COUNT(*) AS count\n",
    "  FROM MATCH (a)\n",
    "  GROUP BY a.wcc\n",
    "  ORDER BY a.wcc\n",
    "\"\"\").print()"
   ]
  },
  {
   "cell_type": "markdown",
   "metadata": {},
   "source": [
    "### Strongly Connected Component"
   ]
  },
  {
   "cell_type": "code",
   "execution_count": 11,
   "metadata": {},
   "outputs": [
    {
     "data": {
      "text/plain": [
       "PgxPartition(graph: sub-graph_17, components: 3)"
      ]
     },
     "execution_count": 11,
     "metadata": {},
     "output_type": "execute_result"
    }
   ],
   "source": [
    "graph2.destroy_vertex_property_if_exists(\"scc_kosaraju\")\n",
    "analyst.scc_kosaraju(graph2)"
   ]
  },
  {
   "cell_type": "code",
   "execution_count": 12,
   "metadata": {},
   "outputs": [
    {
     "name": "stdout",
     "output_type": "stream",
     "text": [
      "+----------------------+\n",
      "| component_id | count |\n",
      "+----------------------+\n",
      "| 0            | 1     |\n",
      "| 1            | 4     |\n",
      "| 2            | 1     |\n",
      "+----------------------+\n",
      "\n"
     ]
    }
   ],
   "source": [
    "graph2.query_pgql(\"\"\"\n",
    "  SELECT a.scc_kosaraju AS component_id, COUNT(a.account_no) AS count\n",
    "  FROM MATCH (a)\n",
    "  GROUP BY a.scc_kosaraju\n",
    "  ORDER BY a.scc_kosaraju\n",
    "\"\"\").print()"
   ]
  },
  {
   "cell_type": "markdown",
   "metadata": {},
   "source": [
    "## Recommendation\n",
    "\n",
    "Lastly let's use Personalized PageRank to find stores that John may purchase from given that people he is connected to have made purchases from those stores.\n",
    "\n",
    "![](https://user-images.githubusercontent.com/4862919/63682622-8f4ad480-c822-11e9-9979-b8a1525240fe.jpg)"
   ]
  },
  {
   "cell_type": "code",
   "execution_count": 13,
   "metadata": {},
   "outputs": [
    {
     "data": {
      "text/plain": [
       "PgxGraph(name: sub-graph_21, v: 9, e: 11, directed: True, memory(Mb): 0)"
      ]
     },
     "execution_count": 13,
     "metadata": {},
     "output_type": "execute_result"
    }
   ],
   "source": [
    "graph3 = graph.filter(pgx.EdgeFilter(\"edge.label()='purchased'\"))\n",
    "graph3"
   ]
  },
  {
   "cell_type": "markdown",
   "metadata": {},
   "source": [
    "### Reverse Edges"
   ]
  },
  {
   "cell_type": "markdown",
   "metadata": {},
   "source": [
    "![](https://user-images.githubusercontent.com/4862919/63683184-eef5af80-c823-11e9-85be-495295d0c2a3.jpg)\n",
    "![](https://user-images.githubusercontent.com/4862919/63683190-f1f0a000-c823-11e9-8e3d-96152f4edf98.jpg)`"
   ]
  },
  {
   "cell_type": "code",
   "execution_count": 14,
   "metadata": {},
   "outputs": [
    {
     "data": {
      "text/plain": [
       "PgxGraph(name: sub-graph_22, v: 9, e: 22, directed: True, memory(Mb): 0)"
      ]
     },
     "execution_count": 14,
     "metadata": {},
     "output_type": "execute_result"
    }
   ],
   "source": [
    "graph4 = graph3.clone_and_execute_pgql(\"\"\"\n",
    "  INSERT EDGE e BETWEEN m AND a LABELS (\"purchased_by\")\n",
    "  FROM MATCH (a)->(m)\n",
    "\"\"\")\n",
    "graph4"
   ]
  },
  {
   "cell_type": "code",
   "execution_count": 15,
   "metadata": {},
   "outputs": [
    {
     "name": "stdout",
     "output_type": "stream",
     "text": [
      "+-------------------------------------------+\n",
      "| name         | LABEL(r)     | account_no  |\n",
      "+-------------------------------------------+\n",
      "| Apple Store  | purchased_by | xxx-yyy-201 |\n",
      "| PC Paradise  | purchased_by | xxx-yyy-201 |\n",
      "| Apple Store  | purchased_by | xxx-yyy-202 |\n",
      "| PC Paradise  | purchased_by | xxx-yyy-202 |\n",
      "| Asia Books   | purchased_by | xxx-yyy-202 |\n",
      "| Apple Store  | purchased_by | xxx-yyy-203 |\n",
      "| PC Paradise  | purchased_by | xxx-yyy-203 |\n",
      "| Kindle Store | purchased_by | xxx-yyy-203 |\n",
      "| Kindle Store | purchased_by | xxx-yyy-204 |\n",
      "| Asia Books   | purchased_by | xxx-yyy-204 |\n",
      "| ABC Travel   | purchased_by | xxx-yyy-204 |\n",
      "+-------------------------------------------+\n",
      "\n"
     ]
    }
   ],
   "source": [
    "graph4.query_pgql(\"\"\"\n",
    "  SELECT x.name, LABEL(r), a.account_no\n",
    "  FROM MATCH (a)<-[r:purchased_by]-(x)\n",
    "\"\"\").print()"
   ]
  },
  {
   "cell_type": "markdown",
   "metadata": {},
   "source": [
    "### Personalized PageRank"
   ]
  },
  {
   "cell_type": "code",
   "execution_count": 16,
   "metadata": {},
   "outputs": [
    {
     "data": {
      "text/plain": [
       "VertexProperty(name: ppr, type: double, graph: sub-graph_22)"
      ]
     },
     "execution_count": 16,
     "metadata": {},
     "output_type": "execute_result"
    }
   ],
   "source": [
    "rs = graph4.query_pgql(\"SELECT ID(a) FROM MATCH (a) WHERE a.account_no = 'xxx-yyy-201'\")\n",
    "vertex = graph4.get_vertex(rs.get_row(0))\n",
    "graph4.destroy_vertex_property_if_exists(\"ppr\")\n",
    "analyst.personalized_pagerank(graph4, vertex, rank=\"ppr\")"
   ]
  },
  {
   "cell_type": "markdown",
   "metadata": {},
   "source": [
    "### Recommended Products"
   ]
  },
  {
   "cell_type": "code",
   "execution_count": 17,
   "metadata": {},
   "outputs": [
    {
     "name": "stdout",
     "output_type": "stream",
     "text": [
      "+--------------------------------------------+\n",
      "| ID(x) | name         | ppr                 |\n",
      "+--------------------------------------------+\n",
      "| 303   | Kindle Store | 0.04932640133302745 |\n",
      "| 304   | Asia Books   | 0.04932640133302745 |\n",
      "| 305   | ABC Travel   | 0.01565535511504672 |\n",
      "+--------------------------------------------+\n",
      "\n"
     ]
    }
   ],
   "source": [
    "graph4.query_pgql(\"\"\"\n",
    "  SELECT ID(x), x.name, x.ppr\n",
    "  FROM MATCH (x)\n",
    "  WHERE x.type = 'merchant'\n",
    "    AND NOT EXISTS (\n",
    "      SELECT *\n",
    "      FROM MATCH (x)-[:purchased_by]->(a)\n",
    "      WHERE a.account_no = 'xxx-yyy-201'\n",
    "    )\n",
    "  ORDER BY x.ppr DESC\n",
    "\"\"\").print()"
   ]
  },
  {
   "cell_type": "markdown",
   "metadata": {},
   "source": [
    "## Load from Database (Appendix)"
   ]
  },
  {
   "cell_type": "code",
   "execution_count": 2,
   "metadata": {},
   "outputs": [],
   "source": [
    "statement = '''\n",
    "CREATE PROPERTY GRAPH \"Customer 360 DB\"\n",
    "  VERTEX TABLES (\n",
    "    customer_360.customer\n",
    "      LABEL \"Customer\"\n",
    "  , customer_360.account\n",
    "      LABEL \"Account\"\n",
    "  , customer_360.merchant\n",
    "      LABEL \"Merchant\"\n",
    "  )\n",
    "  EDGE TABLES (\n",
    "    customer_360.owned_by\n",
    "      SOURCE KEY(from_id) REFERENCES account\n",
    "      DESTINATION KEY(to_id) REFERENCES customer\n",
    "      LABEL \"owned_by\"\n",
    "  , customer_360.parent_of\n",
    "      SOURCE KEY(from_id) REFERENCES customer\n",
    "      DESTINATION KEY(to_id) REFERENCES customer\n",
    "      LABEL \"parent_of\"\n",
    "  , customer_360.purchased\n",
    "      SOURCE KEY(from_id) REFERENCES account\n",
    "      DESTINATION KEY(to_id) REFERENCES merchant\n",
    "      LABEL \"purchased\"\n",
    "  , customer_360.transfer\n",
    "      SOURCE KEY(from_id) REFERENCES account\n",
    "      DESTINATION KEY(to_id) REFERENCES account\n",
    "      LABEL \"transfer\"\n",
    "  )\n",
    "'''"
   ]
  },
  {
   "cell_type": "code",
   "execution_count": 3,
   "metadata": {
    "scrolled": true
   },
   "outputs": [
    {
     "data": {
      "text/plain": [
       "False"
      ]
     },
     "execution_count": 3,
     "metadata": {},
     "output_type": "execute_result"
    }
   ],
   "source": [
    "session.prepare_pgql(statement).execute()"
   ]
  },
  {
   "cell_type": "code",
   "execution_count": 4,
   "metadata": {},
   "outputs": [],
   "source": [
    "graph = session.get_graph(\"Customer 360 DB\")"
   ]
  },
  {
   "cell_type": "code",
   "execution_count": 5,
   "metadata": {},
   "outputs": [
    {
     "data": {
      "text/plain": [
       "PgxGraph(name: Customer 360 DB, v: 15, e: 24, directed: True, memory(Mb): 0)"
      ]
     },
     "execution_count": 5,
     "metadata": {},
     "output_type": "execute_result"
    }
   ],
   "source": [
    "graph"
   ]
  }
 ],
 "metadata": {
  "celltoolbar": "Raw Cell Format",
  "kernelspec": {
   "display_name": "Python 3",
   "language": "python",
   "name": "python3"
  },
  "language_info": {
   "codemirror_mode": {
    "name": "ipython",
    "version": 3
   },
   "file_extension": ".py",
   "mimetype": "text/x-python",
   "name": "python",
   "nbconvert_exporter": "python",
   "pygments_lexer": "ipython3",
   "version": "3.8.6"
  }
 },
 "nbformat": 4,
 "nbformat_minor": 4
}
