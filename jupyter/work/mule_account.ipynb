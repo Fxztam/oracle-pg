{
 "cells": [
  {
   "cell_type": "markdown",
   "metadata": {},
   "source": [
    "# Mule Account Detection"
   ]
  },
  {
   "cell_type": "markdown",
   "metadata": {},
   "source": [
    "### Connect to Graph Server"
   ]
  },
  {
   "cell_type": "code",
   "execution_count": 211,
   "metadata": {
    "scrolled": true
   },
   "outputs": [
    {
     "name": "stdout",
     "output_type": "stream",
     "text": [
      "PgxSession(id: 46f6dd9f-efae-4e9c-9898-bc98d6d601b5, name: python_pgx_client)\n"
     ]
    }
   ],
   "source": [
    "import json\n",
    "import os\n",
    "import platform\n",
    "import sys\n",
    "from urllib.request import Request, urlopen\n",
    "from urllib.error import HTTPError\n",
    "import pypgx as pgx\n",
    "\n",
    "base_url = \"http://graph-server:7007\"\n",
    "username = \"graph_dev\"\n",
    "password = \"Welcome1\"\n",
    "\n",
    "def generateToken():\n",
    "    body = json.dumps({ 'username': username, 'password': password }).encode('utf8')\n",
    "    headers = { 'content-type': 'application/json' }\n",
    "    request = Request(base_url + '/auth/token', data=body, headers=headers)\n",
    "    try:\n",
    "        response = urlopen(request).read().decode('utf-8')\n",
    "        return json.loads(response).get('access_token')\n",
    "    except HTTPError as err:\n",
    "        if err.code == 400:\n",
    "            print('Authentication failed no username/password given')\n",
    "        elif err.code == 401:\n",
    "            print('Authentication failed invalid username/password')\n",
    "        else:\n",
    "            print(\"Server returned HTTP response code: {} for URL: {}\".format(err.code, err.url))\n",
    "        os._exit(1)\n",
    " \n",
    "session = pgx.get_session(base_url=base_url, token=generateToken())\n",
    "analyst = session.create_analyst()\n",
    "print(session)"
   ]
  },
  {
   "cell_type": "markdown",
   "metadata": {},
   "source": [
    "### Get Pre-loaded Graph"
   ]
  },
  {
   "cell_type": "code",
   "execution_count": 212,
   "metadata": {},
   "outputs": [
    {
     "data": {
      "text/plain": [
       "PgxGraph(name: Mule Account, v: 14, e: 18, directed: True, memory(Mb): 0)"
      ]
     },
     "execution_count": 212,
     "metadata": {},
     "output_type": "execute_result"
    }
   ],
   "source": [
    "graph = session.get_graph(\"Mule Account\")\n",
    "graph"
   ]
  },
  {
   "cell_type": "markdown",
   "metadata": {},
   "source": [
    "### Find owners of accounts"
   ]
  },
  {
   "cell_type": "code",
   "execution_count": 213,
   "metadata": {
    "scrolled": true
   },
   "outputs": [
    {
     "name": "stdout",
     "output_type": "stream",
     "text": [
      "+-------------------------------------------+\n",
      "| id  | account_no | name         | is_mule |\n",
      "+-------------------------------------------+\n",
      "| 101 | a01        | Alice Nguyen | true    |\n",
      "| 102 | a02        | Bob Tanaka   |         |\n",
      "| 103 | a03        | Carol Lee    |         |\n",
      "+-------------------------------------------+\n",
      "\n"
     ]
    }
   ],
   "source": [
    "graph.query_pgql(\"\"\"\n",
    "  SELECT\n",
    "    ID(a)         AS id\n",
    "  , a.account_no\n",
    "  , c.name\n",
    "  , a.is_mule\n",
    "  FROM MATCH (a)<-[:owns]-(c)\n",
    "  WHERE a.type = 'Account'\n",
    "\"\"\").print()"
   ]
  },
  {
   "cell_type": "code",
   "execution_count": 214,
   "metadata": {},
   "outputs": [
    {
     "data": {
      "text/plain": [
       "VertexProperty(name: owner, type: string, graph: Mule Account)"
      ]
     },
     "execution_count": 214,
     "metadata": {},
     "output_type": "execute_result"
    }
   ],
   "source": [
    "graph.destroy_vertex_property_if_exists(\"owner\")\n",
    "graph.create_vertex_property(\"string\", \"owner\")"
   ]
  },
  {
   "cell_type": "code",
   "execution_count": 215,
   "metadata": {},
   "outputs": [
    {
     "data": {
      "text/plain": [
       "PgxGraph(name: sub-graph_231, v: 14, e: 18, directed: True, memory(Mb): 0)"
      ]
     },
     "execution_count": 215,
     "metadata": {},
     "output_type": "execute_result"
    }
   ],
   "source": [
    "graph = graph.clone_and_execute_pgql(\"\"\"\n",
    "  UPDATE a SET (a.owner = c.name)\n",
    "  FROM MATCH (a)<-[:owns]-(c)\n",
    "  WHERE a.type = 'Account'\n",
    "\"\"\")\n",
    "graph"
   ]
  },
  {
   "cell_type": "code",
   "execution_count": 216,
   "metadata": {},
   "outputs": [
    {
     "name": "stdout",
     "output_type": "stream",
     "text": [
      "+---------------------------------+\n",
      "| id  | account_no | owner        |\n",
      "+---------------------------------+\n",
      "| 101 | a01        | Alice Nguyen |\n",
      "| 102 | a02        | Bob Tanaka   |\n",
      "| 103 | a03        | Carol Lee    |\n",
      "| 104 | a04        |              |\n",
      "| 105 | a05        |              |\n",
      "+---------------------------------+\n",
      "\n"
     ]
    }
   ],
   "source": [
    "graph.query_pgql(\"\"\"\n",
    "  SELECT\n",
    "    ID(a)         AS id\n",
    "  , a.account_no\n",
    "  , a.owner\n",
    "  FROM MATCH (a)\n",
    "  WHERE a.type = 'Account'\n",
    "\"\"\").print()"
   ]
  },
  {
   "cell_type": "markdown",
   "metadata": {},
   "source": [
    "### If the owner of this account is sharing personal information with others"
   ]
  },
  {
   "cell_type": "code",
   "execution_count": 217,
   "metadata": {},
   "outputs": [
    {
     "name": "stdout",
     "output_type": "stream",
     "text": [
      "+-------------------+\n",
      "| ID(a1) | COUNT(*) |\n",
      "+-------------------+\n",
      "| 102    | 2        |\n",
      "| 103    | 1        |\n",
      "| 101    | 1        |\n",
      "+-------------------+\n",
      "\n"
     ]
    }
   ],
   "source": [
    "graph.query_pgql(\"\"\"\n",
    "  SELECT ID(a1), COUNT(*)\n",
    "  FROM MATCH (a1)<-[:owns]-(c1)-(s)-(c2)-[:owns]->(a2)\n",
    "  WHERE a1 != a2 AND c1 != c2\n",
    "  GROUP BY a1\n",
    "\"\"\").print()"
   ]
  },
  {
   "cell_type": "code",
   "execution_count": 218,
   "metadata": {},
   "outputs": [
    {
     "data": {
      "text/plain": [
       "VertexProperty(name: share_info, type: integer, graph: sub-graph_231)"
      ]
     },
     "execution_count": 218,
     "metadata": {},
     "output_type": "execute_result"
    }
   ],
   "source": [
    "graph.destroy_vertex_property_if_exists(\"share_info\")\n",
    "graph.create_vertex_property(\"integer\", \"share_info\")"
   ]
  },
  {
   "cell_type": "code",
   "execution_count": 219,
   "metadata": {},
   "outputs": [
    {
     "data": {
      "text/plain": [
       "PgxGraph(name: sub-graph_234, v: 14, e: 18, directed: True, memory(Mb): 0)"
      ]
     },
     "execution_count": 219,
     "metadata": {},
     "output_type": "execute_result"
    }
   ],
   "source": [
    "graph2 = graph.clone_and_execute_pgql(\"\"\"\n",
    "  UPDATE a1 SET (a1.share_info = COUNT(*))\n",
    "  FROM MATCH (a1)<-[:owns]-(c1)-(s)-(c2)-[:owns]->(a2)\n",
    "  WHERE a1 != a2 AND c1 != c2\n",
    "  GROUP BY a1\n",
    "\"\"\")\n",
    "graph2"
   ]
  },
  {
   "cell_type": "code",
   "execution_count": 220,
   "metadata": {},
   "outputs": [
    {
     "name": "stdout",
     "output_type": "stream",
     "text": [
      "+--------------------------------------------------------+\n",
      "| id  | account_no | owner        | share_info | is_mule |\n",
      "+--------------------------------------------------------+\n",
      "| 101 | a01        | Alice Nguyen | 1          | true    |\n",
      "| 102 | a02        | Bob Tanaka   | 2          |         |\n",
      "| 103 | a03        | Carol Lee    | 1          |         |\n",
      "| 104 | a04        |              | 0          |         |\n",
      "| 105 | a05        |              | 0          |         |\n",
      "+--------------------------------------------------------+\n",
      "\n"
     ]
    }
   ],
   "source": [
    "graph2.query_pgql(\"\"\"\n",
    "  SELECT\n",
    "    ID(a)         AS id\n",
    "  , a.account_no\n",
    "  , a.owner\n",
    "  , a.share_info\n",
    "  , a.is_mule\n",
    "  FROM MATCH (a)\n",
    "  WHERE a.type = 'Account'\n",
    "\"\"\").print()"
   ]
  },
  {
   "cell_type": "markdown",
   "metadata": {},
   "source": [
    "### How many fraud accounts exist in the same money transfer community"
   ]
  },
  {
   "cell_type": "code",
   "execution_count": 221,
   "metadata": {},
   "outputs": [
    {
     "data": {
      "text/plain": [
       "PgxGraph(name: sub-graph_236, v: 5, e: 6, directed: True, memory(Mb): 0)"
      ]
     },
     "execution_count": 221,
     "metadata": {},
     "output_type": "execute_result"
    }
   ],
   "source": [
    "graph3 = graph2.filter(pgx.EdgeFilter(\"edge.label()='transfer'\"))\n",
    "graph3"
   ]
  },
  {
   "cell_type": "code",
   "execution_count": 222,
   "metadata": {},
   "outputs": [
    {
     "data": {
      "text/plain": [
       "PgxPartition(graph: sub-graph_236, components: 4)"
      ]
     },
     "execution_count": 222,
     "metadata": {},
     "output_type": "execute_result"
    }
   ],
   "source": [
    "result = analyst.scc_kosaraju(graph3)\n",
    "result"
   ]
  },
  {
   "cell_type": "code",
   "execution_count": 223,
   "metadata": {},
   "outputs": [
    {
     "name": "stdout",
     "output_type": "stream",
     "text": [
      "+-----------------------------------------------------------------------+\n",
      "| id  | account_no | owner        | share_info | component_id | is_mule |\n",
      "+-----------------------------------------------------------------------+\n",
      "| 101 | a01        | Alice Nguyen | 1          | 3            | true    |\n",
      "| 102 | a02        | Bob Tanaka   | 2          | 3            |         |\n",
      "| 103 | a03        | Carol Lee    | 1          | 2            |         |\n",
      "| 104 | a04        |              | 0          | 1            |         |\n",
      "| 105 | a05        |              | 0          | 0            |         |\n",
      "+-----------------------------------------------------------------------+\n",
      "\n"
     ]
    }
   ],
   "source": [
    "graph3.query_pgql(\"\"\"\n",
    "  SELECT\n",
    "    ID(a)          AS id\n",
    "  , a.account_no\n",
    "  , a.owner\n",
    "  , a.share_info\n",
    "  , a.scc_kosaraju AS component_id\n",
    "  , a.is_mule\n",
    "  FROM MATCH (a)\n",
    "  WHERE a.type = 'Account'\n",
    "\"\"\").print()"
   ]
  },
  {
   "cell_type": "markdown",
   "metadata": {},
   "source": [
    "### Closeness to known fraud accounts in money transfer"
   ]
  },
  {
   "cell_type": "code",
   "execution_count": 224,
   "metadata": {},
   "outputs": [
    {
     "data": {
      "text/plain": [
       "VertexProperty(name: ppr, type: double, graph: sub-graph_236)"
      ]
     },
     "execution_count": 224,
     "metadata": {},
     "output_type": "execute_result"
    }
   ],
   "source": [
    "rs = graph3.query_pgql(\"SELECT ID(a) FROM MATCH (a) WHERE a.is_mule = 'true'\")\n",
    "vertex = graph3.get_vertex(rs.get_row(0))\n",
    "graph3.destroy_vertex_property_if_exists(\"ppr\")\n",
    "analyst.personalized_pagerank(graph3, vertex, rank=\"ppr\")"
   ]
  },
  {
   "cell_type": "code",
   "execution_count": 225,
   "metadata": {},
   "outputs": [
    {
     "name": "stdout",
     "output_type": "stream",
     "text": [
      "+-------------------------------------------------------------------------------------------+\n",
      "| id  | account_no | owner        | share_info | component_id | mule_closeness    | is_mule |\n",
      "+-------------------------------------------------------------------------------------------+\n",
      "| 101 | a01        | Alice Nguyen | 1          | 3            | 0.540319263320892 | true    |\n",
      "| 102 | a02        | Bob Tanaka   | 2          | 3            | 0.459680736679108 |         |\n",
      "| 103 | a03        | Carol Lee    | 1          | 2            | 0.0               |         |\n",
      "| 104 | a04        |              | 0          | 1            | 0.0               |         |\n",
      "| 105 | a05        |              | 0          | 0            | 0.0               |         |\n",
      "+-------------------------------------------------------------------------------------------+\n",
      "\n"
     ]
    }
   ],
   "source": [
    "graph3.query_pgql(\"\"\"\n",
    "  SELECT\n",
    "    ID(a)          AS id\n",
    "  , a.account_no\n",
    "  , a.owner\n",
    "  , a.share_info\n",
    "  , a.scc_kosaraju AS component_id\n",
    "  , a.ppr          AS mule_closeness\n",
    "  , a.is_mule\n",
    "  FROM MATCH (a)\n",
    "  WHERE a.type = 'Account'\n",
    "\"\"\").print()"
   ]
  },
  {
   "cell_type": "markdown",
   "metadata": {},
   "source": [
    "### Store Query Result to Data Frame"
   ]
  },
  {
   "cell_type": "code",
   "execution_count": 226,
   "metadata": {},
   "outputs": [],
   "source": [
    "rs = graph3.query_pgql(\"\"\"\n",
    "  SELECT\n",
    "    ID(a)          AS id\n",
    "  , a.account_no\n",
    "  , a.owner\n",
    "  , a.share_info\n",
    "  , a.scc_kosaraju AS component_id\n",
    "  , a.ppr          AS mule_closeness\n",
    "  , a.is_mule\n",
    "  FROM MATCH (a)\n",
    "  WHERE a.type = 'Account'\n",
    "\"\"\")"
   ]
  },
  {
   "cell_type": "code",
   "execution_count": 227,
   "metadata": {},
   "outputs": [],
   "source": [
    "import numpy as np\n",
    "import pandas as pd\n",
    "def pgql_to_pandas(pgql):\n",
    "    num_rows = pgql.num_results\n",
    "    print(\"Converted to PGQL result set\")\n",
    "    # Fetch all vectors into the local RAM session\n",
    "    temp_result = list(pgql._result_set_util.toList(pgql._pgql_result_set,0,num_rows))\n",
    "    print(\"Fetched all rows\")\n",
    "    # Convert the result into numpy arrays\n",
    "    temp_result2 = np.array(list(map(list,temp_result)))\n",
    "    print(\"Converted all rows to lists\")\n",
    "    # Create a pandas dataframe containing the vectors\n",
    "    vectors= pd.DataFrame(temp_result2[:,1:], index=temp_result2[:,0],\n",
    "    columns = [str(i) for i in range(1,len(temp_result2[0]),1)])\n",
    "    # Sort the index of the created dataframe\n",
    "    vectors_sorted = vectors.sort_index()\n",
    "    return vectors_sorted"
   ]
  },
  {
   "cell_type": "code",
   "execution_count": 228,
   "metadata": {
    "scrolled": true
   },
   "outputs": [
    {
     "name": "stdout",
     "output_type": "stream",
     "text": [
      "Converted to PGQL result set\n",
      "Fetched all rows\n",
      "Converted all rows to lists\n"
     ]
    }
   ],
   "source": [
    "df = pgql_to_pandas(rs)"
   ]
  },
  {
   "cell_type": "code",
   "execution_count": 229,
   "metadata": {},
   "outputs": [
    {
     "data": {
      "text/html": [
       "<div>\n",
       "<style scoped>\n",
       "    .dataframe tbody tr th:only-of-type {\n",
       "        vertical-align: middle;\n",
       "    }\n",
       "\n",
       "    .dataframe tbody tr th {\n",
       "        vertical-align: top;\n",
       "    }\n",
       "\n",
       "    .dataframe thead th {\n",
       "        text-align: right;\n",
       "    }\n",
       "</style>\n",
       "<table border=\"1\" class=\"dataframe\">\n",
       "  <thead>\n",
       "    <tr style=\"text-align: right;\">\n",
       "      <th></th>\n",
       "      <th>1</th>\n",
       "      <th>2</th>\n",
       "      <th>3</th>\n",
       "      <th>4</th>\n",
       "      <th>5</th>\n",
       "      <th>6</th>\n",
       "    </tr>\n",
       "  </thead>\n",
       "  <tbody>\n",
       "    <tr>\n",
       "      <th>101</th>\n",
       "      <td>a01</td>\n",
       "      <td>Alice Nguyen</td>\n",
       "      <td>1</td>\n",
       "      <td>3</td>\n",
       "      <td>0.540319263320892</td>\n",
       "      <td>true</td>\n",
       "    </tr>\n",
       "    <tr>\n",
       "      <th>102</th>\n",
       "      <td>a02</td>\n",
       "      <td>Bob Tanaka</td>\n",
       "      <td>2</td>\n",
       "      <td>3</td>\n",
       "      <td>0.459680736679108</td>\n",
       "      <td></td>\n",
       "    </tr>\n",
       "    <tr>\n",
       "      <th>103</th>\n",
       "      <td>a03</td>\n",
       "      <td>Carol Lee</td>\n",
       "      <td>1</td>\n",
       "      <td>2</td>\n",
       "      <td>0.0</td>\n",
       "      <td></td>\n",
       "    </tr>\n",
       "    <tr>\n",
       "      <th>104</th>\n",
       "      <td>a04</td>\n",
       "      <td></td>\n",
       "      <td>0</td>\n",
       "      <td>1</td>\n",
       "      <td>0.0</td>\n",
       "      <td></td>\n",
       "    </tr>\n",
       "    <tr>\n",
       "      <th>105</th>\n",
       "      <td>a05</td>\n",
       "      <td></td>\n",
       "      <td>0</td>\n",
       "      <td>0</td>\n",
       "      <td>0.0</td>\n",
       "      <td></td>\n",
       "    </tr>\n",
       "  </tbody>\n",
       "</table>\n",
       "</div>"
      ],
      "text/plain": [
       "       1             2  3  4                  5     6\n",
       "101  a01  Alice Nguyen  1  3  0.540319263320892  true\n",
       "102  a02    Bob Tanaka  2  3  0.459680736679108      \n",
       "103  a03     Carol Lee  1  2                0.0      \n",
       "104  a04                0  1                0.0      \n",
       "105  a05                0  0                0.0      "
      ]
     },
     "execution_count": 229,
     "metadata": {},
     "output_type": "execute_result"
    }
   ],
   "source": [
    "df"
   ]
  },
  {
   "cell_type": "code",
   "execution_count": null,
   "metadata": {},
   "outputs": [],
   "source": []
  }
 ],
 "metadata": {
  "celltoolbar": "Raw Cell Format",
  "kernelspec": {
   "display_name": "Python 3",
   "language": "python",
   "name": "python3"
  },
  "language_info": {
   "codemirror_mode": {
    "name": "ipython",
    "version": 3
   },
   "file_extension": ".py",
   "mimetype": "text/x-python",
   "name": "python",
   "nbconvert_exporter": "python",
   "pygments_lexer": "ipython3",
   "version": "3.8.6"
  }
 },
 "nbformat": 4,
 "nbformat_minor": 4
}
